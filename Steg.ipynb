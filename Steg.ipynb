{
  "nbformat": 4,
  "nbformat_minor": 0,
  "metadata": {
    "colab": {
      "name": "Steg.ipynb",
      "version": "0.3.2",
      "provenance": [],
      "collapsed_sections": []
    },
    "kernelspec": {
      "name": "python3",
      "display_name": "Python 3"
    }
  },
  "cells": [
    {
      "cell_type": "markdown",
      "metadata": {
        "id": "zpS7hI70Ho1l",
        "colab_type": "text"
      },
      "source": [
        "# Compression with Constraints: Steganography\n",
        "\n",
        "The natural images are compressible, usually a full size image of several megabytes can be reduced to kilobytes level easily without lossing too much important information. Such property has been used widely to denoising, deblur, etc. techniques. \n",
        "\n",
        "The [``steganography``](https://en.wikipedia.org/wiki/Steganography) is a topic lying in the cryptography. It is concealing a file, message, image, or video within another file, message, image, or video. \n",
        "\n",
        "The advantage of steganography over cryptography alone is that the intended secret message ***does not attract attention to itself as an object of scrutiny***. Plainly visible encrypted messages, no matter how unbreakable they are, arouse interest and may in themselves be incriminating in countries in which encryption is illegal. \n",
        "\n",
        "Whereas cryptography is the practice of protecting the contents of a message alone, steganography is concerned both with concealing the fact that a secret message is being sent and its contents.\n",
        "\n",
        "Steganography includes the concealment of information within computer files. In digital steganography, electronic communications may include steganographic coding inside of a transport layer, such as a document file, image file, program or protocol. Media files are ideal for steganographic transmission because of their large size. For example, a sender might start with an innocuous image file and adjust the color of every hundredth pixel to correspond to a letter in the alphabet. The change is so subtle that someone who is not specifically looking for it is unlikely to notice the change. \n",
        "\n",
        "In this project, we deal with a special case: stegranography with images only. So unlike many practical scenes, for instance, encrypt text, document in images, this task might not be able to produce perfect recovery of information."
      ]
    },
    {
      "cell_type": "markdown",
      "metadata": {
        "id": "ocl_uhidJN92",
        "colab_type": "text"
      },
      "source": [
        "## Purpose of the project\n",
        "\n",
        "The project is not meant to create super powerful technique to conceal information, it is more concerned to get used to imaging processing libraries and optimization techniques. On the other hand, it also provides a challenge to think about how to detect the ``steganographic`` images without the original images."
      ]
    },
    {
      "cell_type": "markdown",
      "metadata": {
        "id": "-gQlN3z3KrMC",
        "colab_type": "text"
      },
      "source": [
        "## Mathematical aspects\n",
        "\n",
        "The stegranography has two important components: encryption and decryption. \n",
        "\n",
        "Suppose you have an original image and a secret image.\n",
        "\n",
        "\n",
        "1.   Encryption: As a sender, your task is to make the original image and secret image merge into one image. The purpose is two fold. Firstly, your outcome must be an image, if this image stays far away from the original image, then it will attract other people's attention. That will count as a failure. Secondly, your outcome image must also convey the information of the secret image. It is not that simple, since any blending of information will change each other. The problem is how much we can afford.\n",
        "2.   Decryption: After the encryption part, your outcome image will have two parts of information coming from original image and the secret image. As the receiver, your task will be inverting the encryption process, to recover the secret image as much as possible (Caution,  the receiver do not care about original image). \n",
        "\n",
        "If we mathematically represent such process, let $x$ be the original image, $y$ is the secret image, then $z = E(x, y)$ is the encrypted image, $E$ is the encryption function. You will try to minimize \n",
        "$$\\|z - x\\|$$\n",
        "The above norm is in certain sense, we will discuss that later. However, above minimization will subject to another constraint, which is the decryption function $D$ can recover sufficient information of the secret image. That is \n",
        "$$\\|D(z) - y\\|$$\n",
        "should be as small as possible.\n",
        "\n",
        "It is possible to construct a unified objective function:\n",
        "$$\\min_{E, D} \\|x - E(x,y)\\| + \\gamma \\|y - D(z)\\|$$\n",
        "where $E$ and $D$ are the parameters to find. $\\gamma$ is a parameter chosen at your choice.\n",
        "\n",
        "Of course, there are other constraints from the images, because images are pixels, each pixel contains 3 channels: R,G,B, each one is a 8-bit integer, goes from 0 to 255. If the image has 4 channels RGBA, then it will provide more information. Therefore above optimization problem also has constraints that $E(x,y)$ and $D(z)$ must be images. \n",
        "\n"
      ]
    },
    {
      "cell_type": "markdown",
      "metadata": {
        "id": "6OSAQ_vKO58g",
        "colab_type": "text"
      },
      "source": [
        "## Algorithm 101, LSB\n",
        "\n",
        "The LSB is called least significant bits, which means you will replace the least significant bits of the original image with the secret image's most significant bits. This method will kill some information from both images, but the performance seems OK for general cases.\n",
        "\n",
        "Here are a few references on this simple algorithm: \n",
        "\n",
        "0.   https://towardsdatascience.com/steganography-hiding-an-image-inside-another-77ca66b2acb1, the code is [here](https://github.com/kelvins/steganography)\n",
        "1.   https://github.com/RobinDavid/LSB-Steganography \n",
        "2.   https://pdfs.semanticscholar.org/3dce/b6307cee042b687b7f377ec1d5de91ce20b0.pdf\n",
        "3.   https://hackernoon.com/simple-image-steganography-in-python-18c7b534854f\n",
        "\n",
        "The basic idea is (suppose you have a code to turn int8 into binary string),  inside each channel, say R, your original image's pixel, say represented as ``1001,0011``, and your secret image's that pixel is ``1110,1101``, then replace the last 4 bits in original image's pixel with the first 4 bits of secret image's corresponding pixel, the resulting number will be ``1001,1110``. In this way, the change in the original image could be small (on average).  There are other ways to alter the LSB, like treating the secret image as a binary string , and evenly distribute to each pixel. ***In our case, for simplicity, we only consider the images with the same size.***"
      ]
    },
    {
      "cell_type": "markdown",
      "metadata": {
        "id": "KrdLQZrjWYOX",
        "colab_type": "text"
      },
      "source": [
        "## Shortcomings \n",
        "\n",
        "The shortcomings of algorithms/methods are mainly on the detection, which is, we can easily detect your outcome image is not feeling right. \n",
        "\n",
        "In practice, if you look at the altered image, say from LSB, you do not feel anything. But the LSB has a very obvious drawback: it alters the last bit, which may distory the statistics of the last bit. In theory, the last bit 0 and 1 should obey certain heuristic distribution in the image, but now it will be changed.\n",
        "\n",
        "The detection code is here: https://github.com/b3dk7/StegExpose\n",
        "\n",
        "In https://dl.acm.org/citation.cfm?id=1929317, the paper introduced the method to preserve the statistics. \n",
        "\n",
        "In https://pdfs.semanticscholar.org/80a5/fcbeda7697d9641bc80460593c2f8f305a65.pdf, it introduced the detection of LSB. \n",
        "\n",
        "\n",
        "In http://futuremedia.szu.edu.cn/assets/files/CF_What%20makes%20the%20stego%20imageundetectable.pdf, the authors considered choosing the best original image to hide the given secret image \n",
        "\n",
        "Again,  currently, we are not supposed to consider this far, but it will be a future work if you find this interesting."
      ]
    },
    {
      "cell_type": "markdown",
      "metadata": {
        "id": "t4frfwD5WBRx",
        "colab_type": "text"
      },
      "source": [
        "## Other ways\n",
        "\n",
        "The review paper (maybe old) is found here: https://www.sciencedirect.com/science/article/pii/B9780123855107000023\n",
        "\n",
        "(some other reviews are found: [here](https://pdfs.semanticscholar.org/57a1/d15dcbf946f093a59db55f8828699fef7826.pdf) and [here](https://www.cscjournals.org/manuscript/Journals/IJCSS/Volume6/Issue3/IJCSS-670.pdf))\n",
        "\n",
        "\n",
        "1.   https://arxiv.org/pdf/1606.05294.pdf. In this paper, it introduces the method to use NN to replace (learn) the LSB process. \n",
        "2.   https://papers.nips.cc/paper/6802-hiding-images-in-plain-sight-deep-steganography.pdf, it introduced a NN to  approximate $D$ and $E$. \n",
        "3. http://citeseerx.ist.psu.edu/viewdoc/download?doi=10.1.1.178.7157&rep=rep1&type=pdf, it uses the DCT (discrete-cosine-transform) and LSB. \n",
        "4. https://arxiv.org/pdf/1806.06357.pdf and  [code](https://github.com/adamcavendish/Deep-Image-Steganography)\n",
        "5. https://ieeexplore.ieee.org/document/8403208/all-figures\n",
        "6. https://eccv2018.org/openaccess/content_ECCV_2018/papers/Jiren_Zhu_HiDDeN_Hiding_Data_ECCV_2018_paper.pdf\n",
        "7. https://arxiv.org/pdf/1904.01444.pdf\n",
        "8. https://link.springer.com/article/10.1007/s00521-014-1702-1"
      ]
    },
    {
      "cell_type": "markdown",
      "metadata": {
        "id": "5kzRMcHxchJ0",
        "colab_type": "text"
      },
      "source": [
        "## First task\n",
        "Implement LSB, the images (orignal and secret) are of the same sizes. If you do not want to implement any, at least go through the code  [here](https://github.com/kelvins/steganography). "
      ]
    },
    {
      "cell_type": "markdown",
      "metadata": {
        "id": "tJXJ-GRif-aN",
        "colab_type": "text"
      },
      "source": [
        "## Second task\n",
        "Try to use neural network to approximate $D$ and $E$, the parameters are up to you, the structure is up to you.  This paper provides a good insight: https://papers.nips.cc/paper/6802-hiding-images-in-plain-sight-deep-steganography.pdf,  an implementation is found here: https://github.com/fpingham/DeepSteg/blob/master/DeepSteganography.ipynb, https://github.com/Ankit-Dhankhar/deep-steg/blob/master/steg%20net.py, and https://github.com/mr3coi/deepsteg and https://github.com/alexandremuzio/deep-steg and https://github.com/harveyslash/Deep-Steganography....., a blog https://buzzrobot.com/hiding-images-using-ai-deep-steganography-b7726bd58b06\n",
        "\n",
        "For the network structure, you can borrow the idea from autoencoder for the $E$ part, in that paper, the authors claimed the $E$ part uses 5 layers of convolutional neural networks with 3x3, 4x4, 5x5 patches. The idea is only to approximate the mappings $D$ and $E$, the fully connected network should also work, but convolutional type is cheaper. \n",
        "\n",
        "A good way to combine DCT (discrete-cosine-transform) to reduce the information first on secret images (bypassing the prep network in the paper). References are easy to find by searching google with DCT keywords. "
      ]
    },
    {
      "cell_type": "markdown",
      "metadata": {
        "id": "QjhmFrmtyxAz",
        "colab_type": "text"
      },
      "source": [
        "## Optional Task\n",
        "\n",
        "What if you have two secret images to encrpt, what if there are more. Does LSB work? Does the NN work? "
      ]
    },
    {
      "cell_type": "markdown",
      "metadata": {
        "id": "KDnngHn2hNmQ",
        "colab_type": "text"
      },
      "source": [
        "## Data set \n",
        "\n",
        "https://www.kaggle.com/gaz3ll3/optimization-ii-project-3\n",
        "\n",
        "In order to efficiency, we only consider small pictures, 256x256. If you have problem dealing with 256x256, you can resize them to 128x128 or 64x64.  If you feel the images are too many, you can sample a portion from them as well.  \n",
        "\n",
        "Training and Validation sets are chosen at random (say, 80% and 20%). Each input data will be two images from the training set. \n",
        "\n",
        "If you are more comfortable with other data sets, it is up to you. Say you can use https://tiny-imagenet.herokuapp.com/ for 64x64 small images."
      ]
    },
    {
      "cell_type": "markdown",
      "metadata": {
        "id": "mw7LJxOGls5E",
        "colab_type": "text"
      },
      "source": [
        "## Metric\n",
        "\n",
        "In your trainging process for $D$ and $E$, the norm to compare images is the RMSE (root mean squared error), the images are of dimension $N\\times N\\times 3$, BTW."
      ]
    },
    {
      "cell_type": "markdown",
      "metadata": {
        "id": "aK13JIAnm8dg",
        "colab_type": "text"
      },
      "source": [
        "## Your final result\n",
        "\n",
        "\n",
        "1.   A writeup on your work, including performance, your work, issues, how do you solve the issues, etc. \n",
        "2.   Test your codes (LSB and NN) against the data set http://r0k.us/graphics/kodak/, each image will be downsize to 256x256 or 128x128 or 64x64 if you trained an NN on smaller images. Report your result in your writeup. \n",
        "3. Code, again, host on github. Submission will be a link. \n",
        "4. If you also tried the optional task, please also report that in your writeup.\n",
        "\n",
        "\n"
      ]
    },
    {
      "cell_type": "code",
      "metadata": {
        "id": "-SxhRGns4evm",
        "colab_type": "code",
        "outputId": "54508eaf-a116-4c0e-933e-6aad161c1107",
        "colab": {
          "base_uri": "https://localhost:8080/",
          "height": 35
        }
      },
      "source": [
        "print('Good luck!')"
      ],
      "execution_count": 0,
      "outputs": [
        {
          "output_type": "stream",
          "text": [
            "Good luck!\n"
          ],
          "name": "stdout"
        }
      ]
    }
  ]
}